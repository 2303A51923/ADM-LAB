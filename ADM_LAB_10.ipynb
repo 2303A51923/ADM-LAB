{
  "nbformat": 4,
  "nbformat_minor": 0,
  "metadata": {
    "colab": {
      "provenance": [],
      "authorship_tag": "ABX9TyN0w3OUZqvrkeFnkQyzCtsE",
      "include_colab_link": true
    },
    "kernelspec": {
      "name": "python3",
      "display_name": "Python 3"
    },
    "language_info": {
      "name": "python"
    }
  },
  "cells": [
    {
      "cell_type": "markdown",
      "metadata": {
        "id": "view-in-github",
        "colab_type": "text"
      },
      "source": [
        "<a href=\"https://colab.research.google.com/github/2303A51923/ADM-LAB/blob/main/ADM_LAB_10.ipynb\" target=\"_parent\"><img src=\"https://colab.research.google.com/assets/colab-badge.svg\" alt=\"Open In Colab\"/></a>"
      ]
    },
    {
      "cell_type": "code",
      "source": [
        "import pandas as pd\n",
        "import numpy as np\n",
        "import matplotlib.pyplot as plt\n",
        "from sklearn.model_selection import train_test_split\n",
        "from sklearn.linear_model import LinearRegression\n",
        "from sklearn.metrics import mean_squared_error, r2_score\n",
        "from sklearn.preprocessing import StandardScaler"
      ],
      "metadata": {
        "id": "1AQYCGOR-Mb-"
      },
      "execution_count": 1,
      "outputs": []
    },
    {
      "cell_type": "code",
      "source": [
        "df = pd.read_csv('Advertising.csv')"
      ],
      "metadata": {
        "id": "XsJSRgSd-X47"
      },
      "execution_count": 2,
      "outputs": []
    },
    {
      "cell_type": "code",
      "source": [
        "df.fillna(df.mean(), inplace=True)\n",
        "scaler = StandardScaler()\n",
        "numerical_features = ['TV', 'Radio', 'Newspaper']\n",
        "df[numerical_features] = scaler.fit_transform(df[numerical_features])\n",
        "print(df.head())\n"
      ],
      "metadata": {
        "colab": {
          "base_uri": "https://localhost:8080/"
        },
        "id": "28f-rpywAlCX",
        "outputId": "9a89dea5-0b57-4a6c-b19a-387720470690"
      },
      "execution_count": 3,
      "outputs": [
        {
          "output_type": "stream",
          "name": "stdout",
          "text": [
            "         TV     Radio  Newspaper  Sales\n",
            "0  0.969852  0.981522   1.778945   22.1\n",
            "1 -1.197376  1.082808   0.669579   10.4\n",
            "2 -1.516155  1.528463   1.783549   12.0\n",
            "3  0.052050  1.217855   1.286405   16.5\n",
            "4  0.394182 -0.841614   1.281802   17.9\n"
          ]
        }
      ]
    },
    {
      "cell_type": "code",
      "source": [
        "X = df[numerical_features]\n",
        "y = df['Sales']"
      ],
      "metadata": {
        "id": "XmVXke3ZBJ3I"
      },
      "execution_count": 4,
      "outputs": []
    },
    {
      "cell_type": "code",
      "source": [
        "X_train, X_test, y_train, y_test = train_test_split(X, y, test_size=0.2, random_state=42)"
      ],
      "metadata": {
        "id": "Rz2y84VACl6l"
      },
      "execution_count": 5,
      "outputs": []
    },
    {
      "cell_type": "code",
      "source": [
        "model = LinearRegression()\n",
        "model.fit(X_train, y_train)\n",
        "y_pred = model.predict(X_test)"
      ],
      "metadata": {
        "id": "3zO7buWlCrv6"
      },
      "execution_count": 6,
      "outputs": []
    },
    {
      "cell_type": "code",
      "source": [
        "mse = mean_squared_error(y_test, y_pred)\n",
        "r2 = r2_score(y_test, y_pred)\n",
        "print(\"Mean Squared Error (MSE):\", mse)\n",
        "print(\"R-squared (R2):\", r2)"
      ],
      "metadata": {
        "colab": {
          "base_uri": "https://localhost:8080/"
        },
        "id": "zVZOlWTGC0EU",
        "outputId": "a6d74aff-ce05-4f6f-8105-932ea1e6f734"
      },
      "execution_count": 7,
      "outputs": [
        {
          "output_type": "stream",
          "name": "stdout",
          "text": [
            "Mean Squared Error (MSE): 2.907756910271093\n",
            "R-squared (R2): 0.9059011844150825\n"
          ]
        }
      ]
    }
  ]
}