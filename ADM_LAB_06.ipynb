{
  "nbformat": 4,
  "nbformat_minor": 0,
  "metadata": {
    "colab": {
      "provenance": [],
      "authorship_tag": "ABX9TyNMP89Pm9tlEcMC/HwPzZmw",
      "include_colab_link": true
    },
    "kernelspec": {
      "name": "python3",
      "display_name": "Python 3"
    },
    "language_info": {
      "name": "python"
    }
  },
  "cells": [
    {
      "cell_type": "markdown",
      "metadata": {
        "id": "view-in-github",
        "colab_type": "text"
      },
      "source": [
        "<a href=\"https://colab.research.google.com/github/2303A51923/ADM-LAB/blob/main/ADM_LAB_06.ipynb\" target=\"_parent\"><img src=\"https://colab.research.google.com/assets/colab-badge.svg\" alt=\"Open In Colab\"/></a>"
      ]
    },
    {
      "cell_type": "code",
      "source": [
        "#1.print the dataset\n",
        "import pandas as pd\n",
        "df = pd.read_csv('university_student.csv')\n",
        "print(\"Dataset:\\n\", df)"
      ],
      "metadata": {
        "colab": {
          "base_uri": "https://localhost:8080/"
        },
        "id": "-ym1Xikruu6Y",
        "outputId": "eec4a77b-058c-4c67-f360-e690efcb4498"
      },
      "execution_count": 1,
      "outputs": [
        {
          "output_type": "stream",
          "name": "stdout",
          "text": [
            "Dataset:\n",
            "     Student ID  Gender Date of Birth  ...  Math Score Reading Score Writing Score\n",
            "0            1    Male    1996-12-03  ...          72            91            69\n",
            "1            2  Female    2001-09-15  ...          66            58            62\n",
            "2            3    Male    2002-08-09  ...          75            99            77\n",
            "3            4    Male    1999-04-29  ...          57            76            97\n",
            "4            5    Male    1995-06-11  ...          78            51            78\n",
            "..         ...     ...           ...  ...         ...           ...           ...\n",
            "95          96  Female    2004-12-04  ...          87            85            88\n",
            "96          97  Female    2003-01-18  ...          56            76            87\n",
            "97          98  Female    1999-01-24  ...          95            66            83\n",
            "98          99  Female    2005-04-20  ...          62            58            87\n",
            "99         100    Male    2004-12-25  ...          89            82            99\n",
            "\n",
            "[100 rows x 10 columns]\n"
          ]
        }
      ]
    },
    {
      "cell_type": "code",
      "source": [
        "# 2. Handle missing values with mean for numeric columns only\n",
        "for column in df.select_dtypes(include=['number']).columns:\n",
        "    df[column].fillna(df[column].mean(), inplace=True)"
      ],
      "metadata": {
        "colab": {
          "base_uri": "https://localhost:8080/"
        },
        "id": "wkTYPOiewfLj",
        "outputId": "57b5efaf-efe9-446a-bfa6-7eb4d60c3e1b"
      },
      "execution_count": 8,
      "outputs": [
        {
          "output_type": "stream",
          "name": "stderr",
          "text": [
            "<ipython-input-8-ea1def3f3aa5>:3: FutureWarning: A value is trying to be set on a copy of a DataFrame or Series through chained assignment using an inplace method.\n",
            "The behavior will change in pandas 3.0. This inplace method will never work because the intermediate object on which we are setting values always behaves as a copy.\n",
            "\n",
            "For example, when doing 'df[col].method(value, inplace=True)', try using 'df.method({col: value}, inplace=True)' or df[col] = df[col].method(value) instead, to perform the operation inplace on the original object.\n",
            "\n",
            "\n",
            "  df[column].fillna(df[column].mean(), inplace=True)\n"
          ]
        }
      ]
    },
    {
      "cell_type": "code",
      "source": [
        "#3.one hot encoding for gender and school type\n",
        "from sklearn.preprocessing import OneHotEncoder\n",
        "encoder = OneHotEncoder()\n",
        "gender_school_encoded = encoder.fit_transform(df[['Gender', 'School Type']]).toarray()\n",
        "encoded_columns = encoder.get_feature_names_out(['Gender', 'School Type'])\n",
        "df = df.join(pd.DataFrame(gender_school_encoded, columns=encoded_columns))\n"
      ],
      "metadata": {
        "id": "0RhyWudYuzEA"
      },
      "execution_count": 4,
      "outputs": []
    },
    {
      "cell_type": "code",
      "source": [
        "#4.Label encoding for grade using label encoder\n",
        "from sklearn.preprocessing import LabelEncoder\n",
        "label_encoder = LabelEncoder()\n",
        "df['Grade'] = label_encoder.fit_transform(df['Grade'])"
      ],
      "metadata": {
        "id": "r4cKF55Xu00b"
      },
      "execution_count": 5,
      "outputs": []
    },
    {
      "cell_type": "code",
      "source": [
        "#5.create new derived column for age and total score\n",
        "current_year = 2025\n",
        "df['Age'] = current_year - pd.to_datetime(df['Date of Birth']).dt.year\n",
        "df['Total Score'] = df[['Math Score', 'Reading Score', 'Writing Score']].sum(axis=1)"
      ],
      "metadata": {
        "id": "1AJb3gLbu2iN"
      },
      "execution_count": 6,
      "outputs": []
    },
    {
      "cell_type": "code",
      "source": [
        "#6.group and aggregate data\n",
        "grouped_df = df.groupby('Grade')['Total Score'].mean().reset_index()\n",
        "print(\"Grouped and Aggregated Data:\\n\", grouped_df)"
      ],
      "metadata": {
        "colab": {
          "base_uri": "https://localhost:8080/"
        },
        "id": "Mx1o_sNgu343",
        "outputId": "3ee5bc96-5229-4fe6-d2fb-c5e887c3cbb7"
      },
      "execution_count": 7,
      "outputs": [
        {
          "output_type": "stream",
          "name": "stdout",
          "text": [
            "Grouped and Aggregated Data:\n",
            "    Grade  Total Score\n",
            "0      0   232.535714\n",
            "1      1   215.500000\n",
            "2      2   230.428571\n",
            "3      3   227.304348\n",
            "4      4   210.062500\n"
          ]
        }
      ]
    }
  ]
}